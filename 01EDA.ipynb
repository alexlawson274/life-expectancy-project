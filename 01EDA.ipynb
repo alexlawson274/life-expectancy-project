{
 "cells": [
  {
   "cell_type": "code",
   "execution_count": 18,
   "metadata": {},
   "outputs": [],
   "source": [
    "import pandas as pd\n",
    "import numpy as np\n",
    "import matplotlib.pyplot as plt\n",
    "import scipy.stats as st"
   ]
  },
  {
   "cell_type": "code",
   "execution_count": 8,
   "metadata": {},
   "outputs": [],
   "source": [
    "demographics_df = pd.read_csv(\"demographics_data.csv\").reset_index(drop = True)"
   ]
  },
  {
   "cell_type": "code",
   "execution_count": 9,
   "metadata": {},
   "outputs": [
    {
     "data": {
      "text/html": [
       "<div>\n",
       "<style scoped>\n",
       "    .dataframe tbody tr th:only-of-type {\n",
       "        vertical-align: middle;\n",
       "    }\n",
       "\n",
       "    .dataframe tbody tr th {\n",
       "        vertical-align: top;\n",
       "    }\n",
       "\n",
       "    .dataframe thead th {\n",
       "        text-align: right;\n",
       "    }\n",
       "</style>\n",
       "<table border=\"1\" class=\"dataframe\">\n",
       "  <thead>\n",
       "    <tr style=\"text-align: right;\">\n",
       "      <th></th>\n",
       "      <th>Unnamed: 0</th>\n",
       "      <th>Crude_birth_rate</th>\n",
       "      <th>Crude_death_rate</th>\n",
       "      <th>Fertility_rate</th>\n",
       "      <th>DPT_immu</th>\n",
       "      <th>HepB3_immu</th>\n",
       "      <th>Measles_immu</th>\n",
       "      <th>HIV_incidence</th>\n",
       "      <th>TB_incidence</th>\n",
       "      <th>Homicides_per100000</th>\n",
       "      <th>Life_expectancy</th>\n",
       "      <th>Physicians_per1000_people</th>\n",
       "      <th>Population_density</th>\n",
       "      <th>Overweight_prevalence</th>\n",
       "    </tr>\n",
       "  </thead>\n",
       "  <tbody>\n",
       "    <tr>\n",
       "      <th>0</th>\n",
       "      <td>0</td>\n",
       "      <td>17.995227</td>\n",
       "      <td>7.195875</td>\n",
       "      <td>2.335178</td>\n",
       "      <td>87.045374</td>\n",
       "      <td>86.436571</td>\n",
       "      <td>87.988729</td>\n",
       "      <td>0.61822</td>\n",
       "      <td>148.000000</td>\n",
       "      <td>6.405792</td>\n",
       "      <td>71.854614</td>\n",
       "      <td>1.933048</td>\n",
       "      <td>71.864149</td>\n",
       "      <td>6.200000</td>\n",
       "    </tr>\n",
       "    <tr>\n",
       "      <th>1</th>\n",
       "      <td>1</td>\n",
       "      <td>9.828199</td>\n",
       "      <td>9.553920</td>\n",
       "      <td>1.551680</td>\n",
       "      <td>93.800214</td>\n",
       "      <td>89.719856</td>\n",
       "      <td>93.554442</td>\n",
       "      <td>0.61822</td>\n",
       "      <td>102.948086</td>\n",
       "      <td>6.405792</td>\n",
       "      <td>80.659892</td>\n",
       "      <td>1.933048</td>\n",
       "      <td>35.249830</td>\n",
       "      <td>5.077778</td>\n",
       "    </tr>\n",
       "    <tr>\n",
       "      <th>2</th>\n",
       "      <td>2</td>\n",
       "      <td>18.174855</td>\n",
       "      <td>7.528826</td>\n",
       "      <td>2.414975</td>\n",
       "      <td>85.603028</td>\n",
       "      <td>84.737825</td>\n",
       "      <td>85.634452</td>\n",
       "      <td>0.23000</td>\n",
       "      <td>132.000000</td>\n",
       "      <td>5.779750</td>\n",
       "      <td>72.563274</td>\n",
       "      <td>1.933048</td>\n",
       "      <td>59.617881</td>\n",
       "      <td>5.600000</td>\n",
       "    </tr>\n",
       "    <tr>\n",
       "      <th>3</th>\n",
       "      <td>3</td>\n",
       "      <td>32.487000</td>\n",
       "      <td>6.423000</td>\n",
       "      <td>4.473000</td>\n",
       "      <td>66.000000</td>\n",
       "      <td>66.000000</td>\n",
       "      <td>64.000000</td>\n",
       "      <td>0.04000</td>\n",
       "      <td>189.000000</td>\n",
       "      <td>6.655561</td>\n",
       "      <td>64.486000</td>\n",
       "      <td>1.933048</td>\n",
       "      <td>56.937760</td>\n",
       "      <td>4.100000</td>\n",
       "    </tr>\n",
       "    <tr>\n",
       "      <th>4</th>\n",
       "      <td>4</td>\n",
       "      <td>11.780000</td>\n",
       "      <td>7.898000</td>\n",
       "      <td>1.617000</td>\n",
       "      <td>99.000000</td>\n",
       "      <td>99.000000</td>\n",
       "      <td>94.000000</td>\n",
       "      <td>0.03000</td>\n",
       "      <td>18.000000</td>\n",
       "      <td>2.289492</td>\n",
       "      <td>78.458000</td>\n",
       "      <td>1.933048</td>\n",
       "      <td>104.612263</td>\n",
       "      <td>5.077778</td>\n",
       "    </tr>\n",
       "  </tbody>\n",
       "</table>\n",
       "</div>"
      ],
      "text/plain": [
       "   Unnamed: 0  Crude_birth_rate  Crude_death_rate  Fertility_rate   DPT_immu  \\\n",
       "0           0         17.995227          7.195875        2.335178  87.045374   \n",
       "1           1          9.828199          9.553920        1.551680  93.800214   \n",
       "2           2         18.174855          7.528826        2.414975  85.603028   \n",
       "3           3         32.487000          6.423000        4.473000  66.000000   \n",
       "4           4         11.780000          7.898000        1.617000  99.000000   \n",
       "\n",
       "   HepB3_immu  Measles_immu  HIV_incidence  TB_incidence  Homicides_per100000  \\\n",
       "0   86.436571     87.988729        0.61822    148.000000             6.405792   \n",
       "1   89.719856     93.554442        0.61822    102.948086             6.405792   \n",
       "2   84.737825     85.634452        0.23000    132.000000             5.779750   \n",
       "3   66.000000     64.000000        0.04000    189.000000             6.655561   \n",
       "4   99.000000     94.000000        0.03000     18.000000             2.289492   \n",
       "\n",
       "   Life_expectancy  Physicians_per1000_people  Population_density  \\\n",
       "0        71.854614                   1.933048           71.864149   \n",
       "1        80.659892                   1.933048           35.249830   \n",
       "2        72.563274                   1.933048           59.617881   \n",
       "3        64.486000                   1.933048           56.937760   \n",
       "4        78.458000                   1.933048          104.612263   \n",
       "\n",
       "   Overweight_prevalence  \n",
       "0               6.200000  \n",
       "1               5.077778  \n",
       "2               5.600000  \n",
       "3               4.100000  \n",
       "4               5.077778  "
      ]
     },
     "execution_count": 9,
     "metadata": {},
     "output_type": "execute_result"
    }
   ],
   "source": [
    "demographics_df.head(5)"
   ]
  },
  {
   "cell_type": "code",
   "execution_count": 10,
   "metadata": {},
   "outputs": [],
   "source": [
    "#drop the empty columns\n",
    "\n",
    "df = demographics_df.drop(['Unnamed: 0'], axis =1)\n"
   ]
  },
  {
   "cell_type": "code",
   "execution_count": 12,
   "metadata": {
    "scrolled": true
   },
   "outputs": [
    {
     "data": {
      "text/plain": [
       "(218, 13)"
      ]
     },
     "execution_count": 12,
     "metadata": {},
     "output_type": "execute_result"
    }
   ],
   "source": [
    "df.shape"
   ]
  },
  {
   "cell_type": "code",
   "execution_count": 13,
   "metadata": {},
   "outputs": [
    {
     "data": {
      "text/html": [
       "<div>\n",
       "<style scoped>\n",
       "    .dataframe tbody tr th:only-of-type {\n",
       "        vertical-align: middle;\n",
       "    }\n",
       "\n",
       "    .dataframe tbody tr th {\n",
       "        vertical-align: top;\n",
       "    }\n",
       "\n",
       "    .dataframe thead th {\n",
       "        text-align: right;\n",
       "    }\n",
       "</style>\n",
       "<table border=\"1\" class=\"dataframe\">\n",
       "  <thead>\n",
       "    <tr style=\"text-align: right;\">\n",
       "      <th></th>\n",
       "      <th>Crude_birth_rate</th>\n",
       "      <th>Crude_death_rate</th>\n",
       "      <th>Fertility_rate</th>\n",
       "      <th>DPT_immu</th>\n",
       "      <th>HepB3_immu</th>\n",
       "      <th>Measles_immu</th>\n",
       "      <th>HIV_incidence</th>\n",
       "      <th>TB_incidence</th>\n",
       "      <th>Homicides_per100000</th>\n",
       "      <th>Life_expectancy</th>\n",
       "      <th>Physicians_per1000_people</th>\n",
       "      <th>Population_density</th>\n",
       "      <th>Overweight_prevalence</th>\n",
       "    </tr>\n",
       "  </thead>\n",
       "  <tbody>\n",
       "    <tr>\n",
       "      <th>0</th>\n",
       "      <td>17.995227</td>\n",
       "      <td>7.195875</td>\n",
       "      <td>2.335178</td>\n",
       "      <td>87.045374</td>\n",
       "      <td>86.436571</td>\n",
       "      <td>87.988729</td>\n",
       "      <td>0.61822</td>\n",
       "      <td>148.000000</td>\n",
       "      <td>6.405792</td>\n",
       "      <td>71.854614</td>\n",
       "      <td>1.933048</td>\n",
       "      <td>71.864149</td>\n",
       "      <td>6.200000</td>\n",
       "    </tr>\n",
       "    <tr>\n",
       "      <th>1</th>\n",
       "      <td>9.828199</td>\n",
       "      <td>9.553920</td>\n",
       "      <td>1.551680</td>\n",
       "      <td>93.800214</td>\n",
       "      <td>89.719856</td>\n",
       "      <td>93.554442</td>\n",
       "      <td>0.61822</td>\n",
       "      <td>102.948086</td>\n",
       "      <td>6.405792</td>\n",
       "      <td>80.659892</td>\n",
       "      <td>1.933048</td>\n",
       "      <td>35.249830</td>\n",
       "      <td>5.077778</td>\n",
       "    </tr>\n",
       "    <tr>\n",
       "      <th>2</th>\n",
       "      <td>18.174855</td>\n",
       "      <td>7.528826</td>\n",
       "      <td>2.414975</td>\n",
       "      <td>85.603028</td>\n",
       "      <td>84.737825</td>\n",
       "      <td>85.634452</td>\n",
       "      <td>0.23000</td>\n",
       "      <td>132.000000</td>\n",
       "      <td>5.779750</td>\n",
       "      <td>72.563274</td>\n",
       "      <td>1.933048</td>\n",
       "      <td>59.617881</td>\n",
       "      <td>5.600000</td>\n",
       "    </tr>\n",
       "    <tr>\n",
       "      <th>3</th>\n",
       "      <td>32.487000</td>\n",
       "      <td>6.423000</td>\n",
       "      <td>4.473000</td>\n",
       "      <td>66.000000</td>\n",
       "      <td>66.000000</td>\n",
       "      <td>64.000000</td>\n",
       "      <td>0.04000</td>\n",
       "      <td>189.000000</td>\n",
       "      <td>6.655561</td>\n",
       "      <td>64.486000</td>\n",
       "      <td>1.933048</td>\n",
       "      <td>56.937760</td>\n",
       "      <td>4.100000</td>\n",
       "    </tr>\n",
       "    <tr>\n",
       "      <th>4</th>\n",
       "      <td>11.780000</td>\n",
       "      <td>7.898000</td>\n",
       "      <td>1.617000</td>\n",
       "      <td>99.000000</td>\n",
       "      <td>99.000000</td>\n",
       "      <td>94.000000</td>\n",
       "      <td>0.03000</td>\n",
       "      <td>18.000000</td>\n",
       "      <td>2.289492</td>\n",
       "      <td>78.458000</td>\n",
       "      <td>1.933048</td>\n",
       "      <td>104.612263</td>\n",
       "      <td>5.077778</td>\n",
       "    </tr>\n",
       "  </tbody>\n",
       "</table>\n",
       "</div>"
      ],
      "text/plain": [
       "   Crude_birth_rate  Crude_death_rate  Fertility_rate   DPT_immu  HepB3_immu  \\\n",
       "0         17.995227          7.195875        2.335178  87.045374   86.436571   \n",
       "1          9.828199          9.553920        1.551680  93.800214   89.719856   \n",
       "2         18.174855          7.528826        2.414975  85.603028   84.737825   \n",
       "3         32.487000          6.423000        4.473000  66.000000   66.000000   \n",
       "4         11.780000          7.898000        1.617000  99.000000   99.000000   \n",
       "\n",
       "   Measles_immu  HIV_incidence  TB_incidence  Homicides_per100000  \\\n",
       "0     87.988729        0.61822    148.000000             6.405792   \n",
       "1     93.554442        0.61822    102.948086             6.405792   \n",
       "2     85.634452        0.23000    132.000000             5.779750   \n",
       "3     64.000000        0.04000    189.000000             6.655561   \n",
       "4     94.000000        0.03000     18.000000             2.289492   \n",
       "\n",
       "   Life_expectancy  Physicians_per1000_people  Population_density  \\\n",
       "0        71.854614                   1.933048           71.864149   \n",
       "1        80.659892                   1.933048           35.249830   \n",
       "2        72.563274                   1.933048           59.617881   \n",
       "3        64.486000                   1.933048           56.937760   \n",
       "4        78.458000                   1.933048          104.612263   \n",
       "\n",
       "   Overweight_prevalence  \n",
       "0               6.200000  \n",
       "1               5.077778  \n",
       "2               5.600000  \n",
       "3               4.100000  \n",
       "4               5.077778  "
      ]
     },
     "execution_count": 13,
     "metadata": {},
     "output_type": "execute_result"
    }
   ],
   "source": [
    "df.head()"
   ]
  },
  {
   "cell_type": "code",
   "execution_count": 25,
   "metadata": {},
   "outputs": [],
   "source": [
    "\n",
    "#correlation cofficient for noethern hemisphere\n",
    "\n",
    "def pearsoncorr(x,y):\n",
    "    r_squared = st.pearsonr(x, y)[0]\n",
    "    print(f\"The r-squared is:{r_squared}\")\n",
    "    (slope, intercept, rvalue, pvalue, stderr) = linregress(x, y)\n",
    "\n",
    "    #generating equation\n",
    "    regress_values = x * slope + intercept\n",
    "    line_eq = \"y = \" + str(round(slope,2)) + \"x + \" + str(round(intercept,2))\n",
    "    print(f\"the equation of the line is:{line_eq}\")"
   ]
  },
  {
   "cell_type": "code",
   "execution_count": 26,
   "metadata": {},
   "outputs": [
    {
     "name": "stdout",
     "output_type": "stream",
     "text": [
      "The r-squared is:-0.8629258886101114\n",
      "the equation of the line is:y = -0.66x + 85.53\n"
     ]
    }
   ],
   "source": [
    "pearsoncorr(df.Crude_birth_rate,df.Life_expectancy)"
   ]
  },
  {
   "cell_type": "code",
   "execution_count": 27,
   "metadata": {},
   "outputs": [
    {
     "name": "stdout",
     "output_type": "stream",
     "text": [
      "The r-squared is:-0.1514719932586468\n",
      "the equation of the line is:y = -0.43x + 76.04\n"
     ]
    }
   ],
   "source": [
    "pearsoncorr(df.Crude_death_rate,df.Life_expectancy)"
   ]
  },
  {
   "cell_type": "code",
   "execution_count": 28,
   "metadata": {},
   "outputs": [
    {
     "name": "stdout",
     "output_type": "stream",
     "text": [
      "The r-squared is:-0.8452839791370969\n",
      "the equation of the line is:y = -5.07x + 86.09\n"
     ]
    }
   ],
   "source": [
    "pearsoncorr(df.Fertility_rate,df.Life_expectancy)"
   ]
  },
  {
   "cell_type": "code",
   "execution_count": 29,
   "metadata": {},
   "outputs": [
    {
     "name": "stdout",
     "output_type": "stream",
     "text": [
      "The r-squared is:0.5208697421308572\n",
      "the equation of the line is:y = 0.3x + 46.68\n"
     ]
    }
   ],
   "source": [
    "pearsoncorr(df.DPT_immu,df.Life_expectancy)"
   ]
  },
  {
   "cell_type": "code",
   "execution_count": 30,
   "metadata": {},
   "outputs": [
    {
     "name": "stdout",
     "output_type": "stream",
     "text": [
      "The r-squared is:0.43844882325054424\n",
      "the equation of the line is:y = 0.25x + 51.36\n"
     ]
    }
   ],
   "source": [
    "pearsoncorr(df.HepB3_immu,df.Life_expectancy)"
   ]
  },
  {
   "cell_type": "code",
   "execution_count": 31,
   "metadata": {},
   "outputs": [
    {
     "name": "stdout",
     "output_type": "stream",
     "text": [
      "The r-squared is:0.537970730953322\n",
      "the equation of the line is:y = 0.29x + 47.57\n"
     ]
    }
   ],
   "source": [
    "pearsoncorr(df.Measles_immu,df.Life_expectancy)"
   ]
  },
  {
   "cell_type": "code",
   "execution_count": 33,
   "metadata": {},
   "outputs": [
    {
     "name": "stdout",
     "output_type": "stream",
     "text": [
      "The r-squared is:-0.35914609111002765\n",
      "the equation of the line is:y = -2.87x + 74.54\n"
     ]
    }
   ],
   "source": [
    "pearsoncorr(df.HIV_incidence,df.Life_expectancy)"
   ]
  },
  {
   "cell_type": "code",
   "execution_count": 34,
   "metadata": {},
   "outputs": [
    {
     "name": "stdout",
     "output_type": "stream",
     "text": [
      "The r-squared is:-0.6107829412411624\n",
      "the equation of the line is:y = -0.03x + 76.15\n"
     ]
    }
   ],
   "source": [
    "pearsoncorr(df.TB_incidence,df.Life_expectancy)"
   ]
  },
  {
   "cell_type": "code",
   "execution_count": 32,
   "metadata": {},
   "outputs": [
    {
     "data": {
      "text/html": [
       "<div>\n",
       "<style scoped>\n",
       "    .dataframe tbody tr th:only-of-type {\n",
       "        vertical-align: middle;\n",
       "    }\n",
       "\n",
       "    .dataframe tbody tr th {\n",
       "        vertical-align: top;\n",
       "    }\n",
       "\n",
       "    .dataframe thead th {\n",
       "        text-align: right;\n",
       "    }\n",
       "</style>\n",
       "<table border=\"1\" class=\"dataframe\">\n",
       "  <thead>\n",
       "    <tr style=\"text-align: right;\">\n",
       "      <th></th>\n",
       "      <th>Crude_birth_rate</th>\n",
       "      <th>Crude_death_rate</th>\n",
       "      <th>Fertility_rate</th>\n",
       "      <th>DPT_immu</th>\n",
       "      <th>HepB3_immu</th>\n",
       "      <th>Measles_immu</th>\n",
       "      <th>HIV_incidence</th>\n",
       "      <th>TB_incidence</th>\n",
       "      <th>Homicides_per100000</th>\n",
       "      <th>Life_expectancy</th>\n",
       "      <th>Physicians_per1000_people</th>\n",
       "      <th>Population_density</th>\n",
       "      <th>Overweight_prevalence</th>\n",
       "    </tr>\n",
       "  </thead>\n",
       "  <tbody>\n",
       "    <tr>\n",
       "      <th>0</th>\n",
       "      <td>17.995227</td>\n",
       "      <td>7.195875</td>\n",
       "      <td>2.335178</td>\n",
       "      <td>87.045374</td>\n",
       "      <td>86.436571</td>\n",
       "      <td>87.988729</td>\n",
       "      <td>0.61822</td>\n",
       "      <td>148.000000</td>\n",
       "      <td>6.405792</td>\n",
       "      <td>71.854614</td>\n",
       "      <td>1.933048</td>\n",
       "      <td>71.864149</td>\n",
       "      <td>6.200000</td>\n",
       "    </tr>\n",
       "    <tr>\n",
       "      <th>1</th>\n",
       "      <td>9.828199</td>\n",
       "      <td>9.553920</td>\n",
       "      <td>1.551680</td>\n",
       "      <td>93.800214</td>\n",
       "      <td>89.719856</td>\n",
       "      <td>93.554442</td>\n",
       "      <td>0.61822</td>\n",
       "      <td>102.948086</td>\n",
       "      <td>6.405792</td>\n",
       "      <td>80.659892</td>\n",
       "      <td>1.933048</td>\n",
       "      <td>35.249830</td>\n",
       "      <td>5.077778</td>\n",
       "    </tr>\n",
       "    <tr>\n",
       "      <th>2</th>\n",
       "      <td>18.174855</td>\n",
       "      <td>7.528826</td>\n",
       "      <td>2.414975</td>\n",
       "      <td>85.603028</td>\n",
       "      <td>84.737825</td>\n",
       "      <td>85.634452</td>\n",
       "      <td>0.23000</td>\n",
       "      <td>132.000000</td>\n",
       "      <td>5.779750</td>\n",
       "      <td>72.563274</td>\n",
       "      <td>1.933048</td>\n",
       "      <td>59.617881</td>\n",
       "      <td>5.600000</td>\n",
       "    </tr>\n",
       "    <tr>\n",
       "      <th>3</th>\n",
       "      <td>32.487000</td>\n",
       "      <td>6.423000</td>\n",
       "      <td>4.473000</td>\n",
       "      <td>66.000000</td>\n",
       "      <td>66.000000</td>\n",
       "      <td>64.000000</td>\n",
       "      <td>0.04000</td>\n",
       "      <td>189.000000</td>\n",
       "      <td>6.655561</td>\n",
       "      <td>64.486000</td>\n",
       "      <td>1.933048</td>\n",
       "      <td>56.937760</td>\n",
       "      <td>4.100000</td>\n",
       "    </tr>\n",
       "    <tr>\n",
       "      <th>4</th>\n",
       "      <td>11.780000</td>\n",
       "      <td>7.898000</td>\n",
       "      <td>1.617000</td>\n",
       "      <td>99.000000</td>\n",
       "      <td>99.000000</td>\n",
       "      <td>94.000000</td>\n",
       "      <td>0.03000</td>\n",
       "      <td>18.000000</td>\n",
       "      <td>2.289492</td>\n",
       "      <td>78.458000</td>\n",
       "      <td>1.933048</td>\n",
       "      <td>104.612263</td>\n",
       "      <td>5.077778</td>\n",
       "    </tr>\n",
       "  </tbody>\n",
       "</table>\n",
       "</div>"
      ],
      "text/plain": [
       "   Crude_birth_rate  Crude_death_rate  Fertility_rate   DPT_immu  HepB3_immu  \\\n",
       "0         17.995227          7.195875        2.335178  87.045374   86.436571   \n",
       "1          9.828199          9.553920        1.551680  93.800214   89.719856   \n",
       "2         18.174855          7.528826        2.414975  85.603028   84.737825   \n",
       "3         32.487000          6.423000        4.473000  66.000000   66.000000   \n",
       "4         11.780000          7.898000        1.617000  99.000000   99.000000   \n",
       "\n",
       "   Measles_immu  HIV_incidence  TB_incidence  Homicides_per100000  \\\n",
       "0     87.988729        0.61822    148.000000             6.405792   \n",
       "1     93.554442        0.61822    102.948086             6.405792   \n",
       "2     85.634452        0.23000    132.000000             5.779750   \n",
       "3     64.000000        0.04000    189.000000             6.655561   \n",
       "4     94.000000        0.03000     18.000000             2.289492   \n",
       "\n",
       "   Life_expectancy  Physicians_per1000_people  Population_density  \\\n",
       "0        71.854614                   1.933048           71.864149   \n",
       "1        80.659892                   1.933048           35.249830   \n",
       "2        72.563274                   1.933048           59.617881   \n",
       "3        64.486000                   1.933048           56.937760   \n",
       "4        78.458000                   1.933048          104.612263   \n",
       "\n",
       "   Overweight_prevalence  \n",
       "0               6.200000  \n",
       "1               5.077778  \n",
       "2               5.600000  \n",
       "3               4.100000  \n",
       "4               5.077778  "
      ]
     },
     "execution_count": 32,
     "metadata": {},
     "output_type": "execute_result"
    }
   ],
   "source": [
    "df.head()"
   ]
  },
  {
   "cell_type": "code",
   "execution_count": 35,
   "metadata": {},
   "outputs": [
    {
     "name": "stdout",
     "output_type": "stream",
     "text": [
      "The r-squared is:-0.12413442442541954\n",
      "the equation of the line is:y = -0.14x + 73.65\n"
     ]
    }
   ],
   "source": [
    "pearsoncorr(df.Homicides_per100000,df.Life_expectancy)"
   ]
  },
  {
   "cell_type": "code",
   "execution_count": 36,
   "metadata": {},
   "outputs": [
    {
     "name": "stdout",
     "output_type": "stream",
     "text": [
      "The r-squared is:0.34826537586980416\n",
      "the equation of the line is:y = 2.55x + 67.83\n"
     ]
    }
   ],
   "source": [
    "pearsoncorr(df.Physicians_per1000_people,df.Life_expectancy)"
   ]
  },
  {
   "cell_type": "code",
   "execution_count": 37,
   "metadata": {},
   "outputs": [
    {
     "name": "stdout",
     "output_type": "stream",
     "text": [
      "The r-squared is:0.19143489871660618\n",
      "the equation of the line is:y = 0.0x + 72.45\n"
     ]
    }
   ],
   "source": [
    "pearsoncorr(df.Population_density,df.Life_expectancy)"
   ]
  },
  {
   "cell_type": "code",
   "execution_count": 38,
   "metadata": {},
   "outputs": [
    {
     "name": "stdout",
     "output_type": "stream",
     "text": [
      "The r-squared is:0.14534580123642687\n",
      "the equation of the line is:y = 0.8x + 68.7\n"
     ]
    }
   ],
   "source": [
    "pearsoncorr(df.Overweight_prevalence,df.Life_expectancy)"
   ]
  },
  {
   "cell_type": "code",
   "execution_count": 39,
   "metadata": {},
   "outputs": [
    {
     "data": {
      "text/plain": [
       "(array([ 5.,  7., 12., 15., 16., 23., 53., 39., 23., 25.]),\n",
       " array([52.805     , 56.01791463, 59.23082927, 62.4437439 , 65.65665854,\n",
       "        68.86957317, 72.0824878 , 75.29540244, 78.50831707, 81.72123171,\n",
       "        84.93414634]),\n",
       " <a list of 10 Patch objects>)"
      ]
     },
     "execution_count": 39,
     "metadata": {},
     "output_type": "execute_result"
    },
    {
     "data": {
      "image/png": "[encoded data removed]",
      "text/plain": [
       "<Figure size 432x288 with 1 Axes>"
      ]
     },
     "metadata": {
      "needs_background": "light"
     },
     "output_type": "display_data"
    }
   ],
   "source": [
    "plt.hist(df.Life_expectancy)"
   ]
  },
  {
   "cell_type": "code",
   "execution_count": null,
   "metadata": {},
   "outputs": [],
   "source": []
  },
  {
   "cell_type": "code",
   "execution_count": null,
   "metadata": {},
   "outputs": [],
   "source": [
    "#birth rate, fertility rate, measles, TB,"
   ]
  }
 ],
 "metadata": {
  "kernelspec": {
   "display_name": "Python [conda env:PythonData] *",
   "language": "python",
   "name": "conda-env-PythonData-py"
  },
  "language_info": {
   "codemirror_mode": {
    "name": "ipython",
    "version": 3
   },
   "file_extension": ".py",
   "mimetype": "text/x-python",
   "name": "python",
   "nbconvert_exporter": "python",
   "pygments_lexer": "ipython3",
   "version": "3.7.6"
  }
 },
 "nbformat": 4,
 "nbformat_minor": 4
}
