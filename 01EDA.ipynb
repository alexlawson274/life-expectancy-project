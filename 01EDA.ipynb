{
 "cells": [
  {
   "cell_type": "code",
   "execution_count": 1,
   "metadata": {},
   "outputs": [],
   "source": [
    "import pandas as pd\n",
    "import numpy as np\n",
    "import matplotlib.pyplot as plt"
   ]
  },
  {
   "cell_type": "code",
   "execution_count": 2,
   "metadata": {},
   "outputs": [],
   "source": [
    "demographics_df = pd.read_csv(\"demographics_data.csv\")"
   ]
  },
  {
   "cell_type": "code",
   "execution_count": 3,
   "metadata": {},
   "outputs": [
    {
     "data": {
      "text/html": [
       "<div>\n",
       "<style scoped>\n",
       "    .dataframe tbody tr th:only-of-type {\n",
       "        vertical-align: middle;\n",
       "    }\n",
       "\n",
       "    .dataframe tbody tr th {\n",
       "        vertical-align: top;\n",
       "    }\n",
       "\n",
       "    .dataframe thead th {\n",
       "        text-align: right;\n",
       "    }\n",
       "</style>\n",
       "<table border=\"1\" class=\"dataframe\">\n",
       "  <thead>\n",
       "    <tr style=\"text-align: right;\">\n",
       "      <th></th>\n",
       "      <th>Unnamed: 0</th>\n",
       "      <th>Crude_birth_rate</th>\n",
       "      <th>Death_comm_disease</th>\n",
       "      <th>Death_noncomm_disease</th>\n",
       "      <th>Health_expenditure</th>\n",
       "      <th>Crude_death_rate</th>\n",
       "      <th>Fertility_rate</th>\n",
       "      <th>Hospital_bed</th>\n",
       "      <th>DPT_immu</th>\n",
       "      <th>HepB3_immu</th>\n",
       "      <th>...</th>\n",
       "      <th>TB_incidence</th>\n",
       "      <th>Homicides_per100000</th>\n",
       "      <th>Life_expectancy</th>\n",
       "      <th>Road_traffic_mortality</th>\n",
       "      <th>Physicians_per1000_people</th>\n",
       "      <th>Population_density</th>\n",
       "      <th>Overweight_prevalence</th>\n",
       "      <th>Smoking_prevalence</th>\n",
       "      <th>Suicide_per1000000</th>\n",
       "      <th>Alcohol_consumption_per_capita</th>\n",
       "    </tr>\n",
       "  </thead>\n",
       "  <tbody>\n",
       "    <tr>\n",
       "      <th>0</th>\n",
       "      <td>0</td>\n",
       "      <td>17.995227</td>\n",
       "      <td>NaN</td>\n",
       "      <td>NaN</td>\n",
       "      <td>NaN</td>\n",
       "      <td>7.195875</td>\n",
       "      <td>2.335178</td>\n",
       "      <td>NaN</td>\n",
       "      <td>87.045374</td>\n",
       "      <td>86.436571</td>\n",
       "      <td>...</td>\n",
       "      <td>148.0</td>\n",
       "      <td>NaN</td>\n",
       "      <td>71.854614</td>\n",
       "      <td>NaN</td>\n",
       "      <td>NaN</td>\n",
       "      <td>71.864149</td>\n",
       "      <td>6.2</td>\n",
       "      <td>NaN</td>\n",
       "      <td>NaN</td>\n",
       "      <td>NaN</td>\n",
       "    </tr>\n",
       "    <tr>\n",
       "      <th>1</th>\n",
       "      <td>1</td>\n",
       "      <td>9.828199</td>\n",
       "      <td>NaN</td>\n",
       "      <td>NaN</td>\n",
       "      <td>NaN</td>\n",
       "      <td>9.553920</td>\n",
       "      <td>1.551680</td>\n",
       "      <td>NaN</td>\n",
       "      <td>93.800214</td>\n",
       "      <td>89.719856</td>\n",
       "      <td>...</td>\n",
       "      <td>NaN</td>\n",
       "      <td>NaN</td>\n",
       "      <td>80.659892</td>\n",
       "      <td>NaN</td>\n",
       "      <td>NaN</td>\n",
       "      <td>35.249830</td>\n",
       "      <td>NaN</td>\n",
       "      <td>NaN</td>\n",
       "      <td>NaN</td>\n",
       "      <td>NaN</td>\n",
       "    </tr>\n",
       "    <tr>\n",
       "      <th>2</th>\n",
       "      <td>2</td>\n",
       "      <td>18.174855</td>\n",
       "      <td>NaN</td>\n",
       "      <td>NaN</td>\n",
       "      <td>NaN</td>\n",
       "      <td>7.528826</td>\n",
       "      <td>2.414975</td>\n",
       "      <td>NaN</td>\n",
       "      <td>85.603028</td>\n",
       "      <td>84.737825</td>\n",
       "      <td>...</td>\n",
       "      <td>132.0</td>\n",
       "      <td>5.779750</td>\n",
       "      <td>72.563274</td>\n",
       "      <td>NaN</td>\n",
       "      <td>NaN</td>\n",
       "      <td>59.617881</td>\n",
       "      <td>5.6</td>\n",
       "      <td>NaN</td>\n",
       "      <td>NaN</td>\n",
       "      <td>NaN</td>\n",
       "    </tr>\n",
       "    <tr>\n",
       "      <th>3</th>\n",
       "      <td>3</td>\n",
       "      <td>32.487000</td>\n",
       "      <td>NaN</td>\n",
       "      <td>NaN</td>\n",
       "      <td>NaN</td>\n",
       "      <td>6.423000</td>\n",
       "      <td>4.473000</td>\n",
       "      <td>NaN</td>\n",
       "      <td>66.000000</td>\n",
       "      <td>66.000000</td>\n",
       "      <td>...</td>\n",
       "      <td>189.0</td>\n",
       "      <td>6.655561</td>\n",
       "      <td>64.486000</td>\n",
       "      <td>NaN</td>\n",
       "      <td>NaN</td>\n",
       "      <td>56.937760</td>\n",
       "      <td>4.1</td>\n",
       "      <td>NaN</td>\n",
       "      <td>NaN</td>\n",
       "      <td>NaN</td>\n",
       "    </tr>\n",
       "    <tr>\n",
       "      <th>4</th>\n",
       "      <td>4</td>\n",
       "      <td>11.780000</td>\n",
       "      <td>NaN</td>\n",
       "      <td>NaN</td>\n",
       "      <td>NaN</td>\n",
       "      <td>7.898000</td>\n",
       "      <td>1.617000</td>\n",
       "      <td>NaN</td>\n",
       "      <td>99.000000</td>\n",
       "      <td>99.000000</td>\n",
       "      <td>...</td>\n",
       "      <td>18.0</td>\n",
       "      <td>2.289492</td>\n",
       "      <td>78.458000</td>\n",
       "      <td>NaN</td>\n",
       "      <td>NaN</td>\n",
       "      <td>104.612263</td>\n",
       "      <td>NaN</td>\n",
       "      <td>NaN</td>\n",
       "      <td>NaN</td>\n",
       "      <td>NaN</td>\n",
       "    </tr>\n",
       "  </tbody>\n",
       "</table>\n",
       "<p>5 rows × 22 columns</p>\n",
       "</div>"
      ],
      "text/plain": [
       "   Unnamed: 0  Crude_birth_rate  Death_comm_disease  Death_noncomm_disease  \\\n",
       "0           0         17.995227                 NaN                    NaN   \n",
       "1           1          9.828199                 NaN                    NaN   \n",
       "2           2         18.174855                 NaN                    NaN   \n",
       "3           3         32.487000                 NaN                    NaN   \n",
       "4           4         11.780000                 NaN                    NaN   \n",
       "\n",
       "   Health_expenditure  Crude_death_rate  Fertility_rate  Hospital_bed  \\\n",
       "0                 NaN          7.195875        2.335178           NaN   \n",
       "1                 NaN          9.553920        1.551680           NaN   \n",
       "2                 NaN          7.528826        2.414975           NaN   \n",
       "3                 NaN          6.423000        4.473000           NaN   \n",
       "4                 NaN          7.898000        1.617000           NaN   \n",
       "\n",
       "    DPT_immu  HepB3_immu  ...  TB_incidence  Homicides_per100000  \\\n",
       "0  87.045374   86.436571  ...         148.0                  NaN   \n",
       "1  93.800214   89.719856  ...           NaN                  NaN   \n",
       "2  85.603028   84.737825  ...         132.0             5.779750   \n",
       "3  66.000000   66.000000  ...         189.0             6.655561   \n",
       "4  99.000000   99.000000  ...          18.0             2.289492   \n",
       "\n",
       "   Life_expectancy  Road_traffic_mortality  Physicians_per1000_people  \\\n",
       "0        71.854614                     NaN                        NaN   \n",
       "1        80.659892                     NaN                        NaN   \n",
       "2        72.563274                     NaN                        NaN   \n",
       "3        64.486000                     NaN                        NaN   \n",
       "4        78.458000                     NaN                        NaN   \n",
       "\n",
       "   Population_density  Overweight_prevalence  Smoking_prevalence  \\\n",
       "0           71.864149                    6.2                 NaN   \n",
       "1           35.249830                    NaN                 NaN   \n",
       "2           59.617881                    5.6                 NaN   \n",
       "3           56.937760                    4.1                 NaN   \n",
       "4          104.612263                    NaN                 NaN   \n",
       "\n",
       "   Suicide_per1000000  Alcohol_consumption_per_capita  \n",
       "0                 NaN                             NaN  \n",
       "1                 NaN                             NaN  \n",
       "2                 NaN                             NaN  \n",
       "3                 NaN                             NaN  \n",
       "4                 NaN                             NaN  \n",
       "\n",
       "[5 rows x 22 columns]"
      ]
     },
     "execution_count": 3,
     "metadata": {},
     "output_type": "execute_result"
    }
   ],
   "source": [
    "demographics_df.head(5)"
   ]
  },
  {
   "cell_type": "code",
   "execution_count": null,
   "metadata": {},
   "outputs": [],
   "source": [
    "#drop the empty columns\n",
    "\n",
    "df = cleaned_df.drop(['Unnamed: 0', 'Country Name', 'Country Code', '2019'], axis =1)\n",
    "#drop\n",
    "#df.drop(['B', 'C'], axis=1)"
   ]
  },
  {
   "cell_type": "code",
   "execution_count": null,
   "metadata": {
    "scrolled": true
   },
   "outputs": [],
   "source": [
    "cleaned_df.shape\n",
    "cleaned_df.head()"
   ]
  },
  {
   "cell_type": "code",
   "execution_count": null,
   "metadata": {},
   "outputs": [],
   "source": [
    "df.head()"
   ]
  },
  {
   "cell_type": "code",
   "execution_count": null,
   "metadata": {},
   "outputs": [],
   "source": []
  },
  {
   "cell_type": "code",
   "execution_count": null,
   "metadata": {},
   "outputs": [],
   "source": [
    "cleaned_df = cleaned_df.reset_index(drop = True)"
   ]
  },
  {
   "cell_type": "code",
   "execution_count": null,
   "metadata": {
    "scrolled": true
   },
   "outputs": [],
   "source": [
    "cleaned_df.head()"
   ]
  },
  {
   "cell_type": "code",
   "execution_count": null,
   "metadata": {},
   "outputs": [],
   "source": [
    "cleaned_df = cleaned_df.drop(['Unnamed: 0'], axis =1)\n"
   ]
  },
  {
   "cell_type": "code",
   "execution_count": null,
   "metadata": {},
   "outputs": [],
   "source": [
    "cleaned_df"
   ]
  },
  {
   "cell_type": "code",
   "execution_count": null,
   "metadata": {},
   "outputs": [],
   "source": [
    "#cleaned_df['mean'] = cleaned_df.iloc[:,4:].mean(axis=1)\n"
   ]
  },
  {
   "cell_type": "code",
   "execution_count": null,
   "metadata": {},
   "outputs": [],
   "source": [
    " # life expectancy SP.DYN.LE00.IN\n",
    "#life_expectancy_mean = cleaned_df[cleaned_df[\"Indicator Code\"] == \"SP.DYN.LE00.IN\"]"
   ]
  },
  {
   "cell_type": "code",
   "execution_count": null,
   "metadata": {},
   "outputs": [],
   "source": []
  },
  {
   "cell_type": "code",
   "execution_count": null,
   "metadata": {},
   "outputs": [],
   "source": [
    "df = cleaned_df.transpose()\n"
   ]
  },
  {
   "cell_type": "code",
   "execution_count": null,
   "metadata": {},
   "outputs": [],
   "source": [
    "df.head()"
   ]
  },
  {
   "cell_type": "code",
   "execution_count": null,
   "metadata": {},
   "outputs": [],
   "source": []
  },
  {
   "cell_type": "code",
   "execution_count": null,
   "metadata": {},
   "outputs": [],
   "source": []
  },
  {
   "cell_type": "code",
   "execution_count": null,
   "metadata": {},
   "outputs": [],
   "source": []
  },
  {
   "cell_type": "code",
   "execution_count": null,
   "metadata": {},
   "outputs": [],
   "source": []
  },
  {
   "cell_type": "code",
   "execution_count": null,
   "metadata": {},
   "outputs": [],
   "source": [
    "plt.hist(life_expectancy_mean[\"mean\"])"
   ]
  },
  {
   "cell_type": "code",
   "execution_count": null,
   "metadata": {},
   "outputs": [],
   "source": []
  }
 ],
 "metadata": {
  "kernelspec": {
   "display_name": "Python [conda env:PythonData]",
   "language": "python",
   "name": "conda-env-PythonData-py"
  },
  "language_info": {
   "codemirror_mode": {
    "name": "ipython",
    "version": 3
   },
   "file_extension": ".py",
   "mimetype": "text/x-python",
   "name": "python",
   "nbconvert_exporter": "python",
   "pygments_lexer": "ipython3",
   "version": "3.7.6"
  }
 },
 "nbformat": 4,
 "nbformat_minor": 4
}
