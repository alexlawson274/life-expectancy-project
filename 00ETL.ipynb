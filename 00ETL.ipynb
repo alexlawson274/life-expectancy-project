{
 "cells": [
  {
   "cell_type": "code",
   "execution_count": 1,
   "metadata": {},
   "outputs": [],
   "source": [
    "import pandas as pd\n",
    "import numpy as np\n",
    "import matplotlib.pyplot as plt\n"
   ]
  },
  {
   "cell_type": "code",
   "execution_count": 2,
   "metadata": {},
   "outputs": [],
   "source": [
    "#load the raw data file\n",
    "df = pd.read_excel(\"WDIEXCEL.xlsx\", sheet_name = \"Data\")"
   ]
  },
  {
   "cell_type": "code",
   "execution_count": null,
   "metadata": {},
   "outputs": [],
   "source": [
    "#sample the data\n",
    "df.sample(20)"
   ]
  },
  {
   "cell_type": "code",
   "execution_count": null,
   "metadata": {},
   "outputs": [],
   "source": [
    "#check to confirm there are no missing values in the indicator code column\n",
    "#because we will filter countries based on this code\n",
    "df.isnull().sum()"
   ]
  },
  {
   "cell_type": "code",
   "execution_count": null,
   "metadata": {},
   "outputs": [],
   "source": [
    "#These are the variable of interest that could have an impact on life expectancy\n",
    "\n",
    "#Birth rate, crude (per 1,000 people)\tSP.DYN.CBRT.IN\n",
    "#Cause of death, by communicable diseases and maternal, prenatal and nutrition conditions (% of total)\tSH.DTH.COMM.ZS\n",
    "#Cause of death, by non-communicable diseases (% of total)\tSH.DTH.NCOM.ZS\n",
    "#Current health expenditure (% of GDP)\tSH.XPD.CHEX.GD.ZS\n",
    "#Death rate, crude (per 1,000 people)\tSP.DYN.CDRT.IN\n",
    "#Fertility rate, total (births per woman)\tSP.DYN.TFRT.IN\n",
    "#Hospital beds (per 1,000 people)\tSH.MED.BEDS.ZS\n",
    "#Immunization, DPT (% of children ages 12-23 months)\tSH.IMM.IDPT\n",
    "#Immunization, HepB3 (% of one-year-old children)\tSH.IMM.HEPB\n",
    "#Immunization, measles (% of children ages 12-23 months)\tSH.IMM.MEAS\n",
    "#Incidence of HIV, all (per 1,000 uninfected population)\tSH.HIV.INCD.TL.P3\n",
    "#Incidence of tuberculosis (per 100,000 people)\tSH.TBS.INCD\n",
    "#Intentional homicides (per 100,000 people)\tVC.IHR.PSRC.P5\n",
    "#Life expectancy at birth, total (years)\tSP.DYN.LE00.IN\n",
    "#Mortality caused by road traffic injury (per 100,000 people)\tSH.STA.TRAF.P5\n",
    "#Physicians (per 1,000 people)\tSH.MED.PHYS.ZS\n",
    "#Population density (people per sq. km of land area)\tEN.POP.DNST\n",
    "#Prevalence of overweight, weight for height (% of children under 5)\tSH.STA.OWGH.ZS\n",
    "#Smoking prevalence, total (ages 15+)\tSH.PRV.SMOK\n",
    "#Suicide mortality rate (per 100,000 population)\tSH.STA.SUIC.P5\n",
    "#Total alcohol consumption per capita (liters of pure alcohol, projected estimates, 15+ years of age)\tSH.ALC.PCAP.LI"
   ]
  },
  {
   "cell_type": "code",
   "execution_count": 3,
   "metadata": {},
   "outputs": [],
   "source": [
    "#drop all date columns except 2018 because we have data till 2018 only although 2019 and 2020 columns also exist\n",
    "#there are no data for 2019 and 2020\n",
    "df_2018 = df.drop(columns=['1960', '1961', '1962','1963','1964','1965','1966','1967','1968','1969','1970','1971','1972', '1973', '1974', '1975','1976', '1977','1978', '1979','1980', '1981','1982', '1983', '1984', '1985','1986', '1987','1988', '1989','1990', '1991','1992', '1993', '1994', '1995','1996', '1997','1998', '1999','1990','1991','1992','1993', '1994', '1995','1996', '1997','1998', '1999','2000', '2001','2002','2003', '2004', '2005', '2006','2007', '2008','2009', '2010','2011', '2012','2013', '2014', '2015', '2016','2017', '2019', '2020'])"
   ]
  },
  {
   "cell_type": "code",
   "execution_count": 4,
   "metadata": {},
   "outputs": [
    {
     "data": {
      "text/plain": [
       "array(['Arab World', 'Caribbean small states',\n",
       "       'Central Europe and the Baltics', 'Early-demographic dividend',\n",
       "       'East Asia & Pacific',\n",
       "       'East Asia & Pacific (excluding high income)',\n",
       "       'East Asia & Pacific (IDA & IBRD countries)', 'Euro area',\n",
       "       'Europe & Central Asia',\n",
       "       'Europe & Central Asia (excluding high income)',\n",
       "       'Europe & Central Asia (IDA & IBRD countries)', 'European Union',\n",
       "       'Fragile and conflict affected situations',\n",
       "       'Heavily indebted poor countries (HIPC)', 'High income',\n",
       "       'IBRD only', 'IDA & IBRD total', 'IDA blend', 'IDA only',\n",
       "       'IDA total', 'Late-demographic dividend',\n",
       "       'Latin America & Caribbean',\n",
       "       'Latin America & Caribbean (excluding high income)',\n",
       "       'Latin America & the Caribbean (IDA & IBRD countries)',\n",
       "       'Least developed countries: UN classification',\n",
       "       'Low & middle income', 'Low income', 'Lower middle income',\n",
       "       'Middle East & North Africa',\n",
       "       'Middle East & North Africa (excluding high income)',\n",
       "       'Middle East & North Africa (IDA & IBRD countries)',\n",
       "       'Middle income', 'North America', 'Not classified', 'OECD members',\n",
       "       'Other small states', 'Pacific island small states',\n",
       "       'Post-demographic dividend', 'Pre-demographic dividend',\n",
       "       'Small states', 'South Asia', 'South Asia (IDA & IBRD)',\n",
       "       'Sub-Saharan Africa', 'Sub-Saharan Africa (excluding high income)',\n",
       "       'Sub-Saharan Africa (IDA & IBRD countries)', 'Upper middle income',\n",
       "       'World', 'Afghanistan', 'Albania', 'Algeria', 'American Samoa',\n",
       "       'Andorra', 'Angola', 'Antigua and Barbuda', 'Argentina', 'Armenia',\n",
       "       'Aruba', 'Australia', 'Austria', 'Azerbaijan', 'Bahamas, The',\n",
       "       'Bahrain', 'Bangladesh', 'Barbados', 'Belarus', 'Belgium',\n",
       "       'Belize', 'Benin', 'Bermuda', 'Bhutan', 'Bolivia',\n",
       "       'Bosnia and Herzegovina', 'Botswana', 'Brazil',\n",
       "       'British Virgin Islands', 'Brunei Darussalam', 'Bulgaria',\n",
       "       'Burkina Faso', 'Burundi', 'Cabo Verde', 'Cambodia', 'Cameroon',\n",
       "       'Canada', 'Cayman Islands', 'Central African Republic', 'Chad',\n",
       "       'Channel Islands', 'Chile', 'China', 'Colombia', 'Comoros',\n",
       "       'Congo, Dem. Rep.', 'Congo, Rep.', 'Costa Rica', \"Cote d'Ivoire\",\n",
       "       'Croatia', 'Cuba', 'Curacao', 'Cyprus', 'Czech Republic',\n",
       "       'Denmark', 'Djibouti', 'Dominica', 'Dominican Republic', 'Ecuador',\n",
       "       'Egypt, Arab Rep.', 'El Salvador', 'Equatorial Guinea', 'Eritrea',\n",
       "       'Estonia', 'Eswatini', 'Ethiopia', 'Faroe Islands', 'Fiji',\n",
       "       'Finland', 'France', 'French Polynesia', 'Gabon', 'Gambia, The',\n",
       "       'Georgia', 'Germany', 'Ghana', 'Gibraltar', 'Greece', 'Greenland',\n",
       "       'Grenada', 'Guam', 'Guatemala', 'Guinea', 'Guinea-Bissau',\n",
       "       'Guyana', 'Haiti', 'Honduras', 'Hong Kong SAR, China', 'Hungary',\n",
       "       'Iceland', 'India', 'Indonesia', 'Iran, Islamic Rep.', 'Iraq',\n",
       "       'Ireland', 'Isle of Man', 'Israel', 'Italy', 'Jamaica', 'Japan',\n",
       "       'Jordan', 'Kazakhstan', 'Kenya', 'Kiribati',\n",
       "       'Korea, Dem. People’s Rep.', 'Korea, Rep.', 'Kosovo', 'Kuwait',\n",
       "       'Kyrgyz Republic', 'Lao PDR', 'Latvia', 'Lebanon', 'Lesotho',\n",
       "       'Liberia', 'Libya', 'Liechtenstein', 'Lithuania', 'Luxembourg',\n",
       "       'Macao SAR, China', 'Madagascar', 'Malawi', 'Malaysia', 'Maldives',\n",
       "       'Mali', 'Malta', 'Marshall Islands', 'Mauritania', 'Mauritius',\n",
       "       'Mexico', 'Micronesia, Fed. Sts.', 'Moldova', 'Monaco', 'Mongolia',\n",
       "       'Montenegro', 'Morocco', 'Mozambique', 'Myanmar', 'Namibia',\n",
       "       'Nauru', 'Nepal', 'Netherlands', 'New Caledonia', 'New Zealand',\n",
       "       'Nicaragua', 'Niger', 'Nigeria', 'North Macedonia',\n",
       "       'Northern Mariana Islands', 'Norway', 'Oman', 'Pakistan', 'Palau',\n",
       "       'Panama', 'Papua New Guinea', 'Paraguay', 'Peru', 'Philippines',\n",
       "       'Poland', 'Portugal', 'Puerto Rico', 'Qatar', 'Romania',\n",
       "       'Russian Federation', 'Rwanda', 'Samoa', 'San Marino',\n",
       "       'Sao Tome and Principe', 'Saudi Arabia', 'Senegal', 'Serbia',\n",
       "       'Seychelles', 'Sierra Leone', 'Singapore',\n",
       "       'Sint Maarten (Dutch part)', 'Slovak Republic', 'Slovenia',\n",
       "       'Solomon Islands', 'Somalia', 'South Africa', 'South Sudan',\n",
       "       'Spain', 'Sri Lanka', 'St. Kitts and Nevis', 'St. Lucia',\n",
       "       'St. Martin (French part)', 'St. Vincent and the Grenadines',\n",
       "       'Sudan', 'Suriname', 'Sweden', 'Switzerland',\n",
       "       'Syrian Arab Republic', 'Tajikistan', 'Tanzania', 'Thailand',\n",
       "       'Timor-Leste', 'Togo', 'Tonga', 'Trinidad and Tobago', 'Tunisia',\n",
       "       'Turkey', 'Turkmenistan', 'Turks and Caicos Islands', 'Tuvalu',\n",
       "       'Uganda', 'Ukraine', 'United Arab Emirates', 'United Kingdom',\n",
       "       'United States', 'Uruguay', 'Uzbekistan', 'Vanuatu',\n",
       "       'Venezuela, RB', 'Vietnam', 'Virgin Islands (U.S.)',\n",
       "       'West Bank and Gaza', 'Yemen, Rep.', 'Zambia', 'Zimbabwe'],\n",
       "      dtype=object)"
      ]
     },
     "execution_count": 4,
     "metadata": {},
     "output_type": "execute_result"
    }
   ],
   "source": [
    "#check whether the \"Country Name\" column has only countrie name.\n",
    "df_2018[\"Country Name\"].unique()"
   ]
  },
  {
   "cell_type": "code",
   "execution_count": 5,
   "metadata": {},
   "outputs": [],
   "source": [
    "#create a list with all the row values that needs to be removed. We are removing the rows that have data about regions of\n",
    "#the world because we are only interested in countries\n",
    "row_values_to_remove = ['Arab World', \n",
    "'Caribbean small states',                        \n",
    "'Central Europe and the Baltics', \n",
    "'East Asia & Pacific (excluding high income)',\n",
    "'Early-demographic dividend', 'East Asia & Pacific',\n",
    "'Europe & Central Asia (excluding high income)',\n",
    "'Europe & Central Asia','Euro area',\n",
    "'European Union', 'Fragile and conflict affected situations',\n",
    "'High income', \n",
    "'Heavily indebted poor countries (HIPC)', \n",
    "'IBRD only', 'IDA & IBRD total', 'IDA total',\n",
    "'IDA blend', 'IDA only', \n",
    "'Not classified', \n",
    "'Latin America & Caribbean (excluding high income)',\n",
    "'Latin America & Caribbean',\n",
    "'Least developed countries: UN classification', 'Low income',\n",
    "'Lower middle income',\n",
    "'Low & middle income', 'Late-demographic dividend',\n",
    "'Middle East & North Africa',\n",
    "'Middle East & North Africa (excluding high income)', \n",
    "'North America', \n",
    "'OECD members',\n",
    "'Other small states', \n",
    "'Pre-demographic dividend',\n",
    "'West Bank and Gaza', 'Pacific island small states',\n",
    "'South Asia',\n",
    "'Sub-Saharan Africa (excluding high income)', \n",
    "'Sub-Saharan Africa', 'Small states', 'Sao Tome and Principe',\n",
    "'East Asia & Pacific (IDA & IBRD countries)',\n",
    "'Europe & Central Asia (IDA & IBRD countries)', \n",
    "'Latin America & the Caribbean (IDA & IBRD countries)',\n",
    "'Middle East & North Africa (IDA & IBRD countries)',\n",
    "'South Asia (IDA & IBRD)',\n",
    "'Sub-Saharan Africa (IDA & IBRD countries)', \n",
    "'Upper middle income']"
   ]
  },
  {
   "cell_type": "code",
   "execution_count": 6,
   "metadata": {},
   "outputs": [],
   "source": [
    "#create a for loop to iterate over the length of the list and remove rows with each value from list in each iteratation\n",
    "for i in range(len(row_values_to_remove)):\n",
    "    df_2018 = df_2018[df_2018[\"Country Name\"] != row_values_to_remove[i]]"
   ]
  },
  {
   "cell_type": "code",
   "execution_count": 8,
   "metadata": {},
   "outputs": [],
   "source": [
    "#extract values of variables of interest into separate series \n",
    "crude_birth_rate = df_2018.loc[df_2018['Indicator Code'] == 'SP.DYN.CBRT.IN','2018'].reset_index(drop = True)\n",
    "death_comm_disease = df_2018.loc[df_2018['Indicator Code'] == 'SH.DTH.COMM.ZS','2018'].reset_index(drop = True)\n",
    "death_noncomm_disease = df_2018.loc[df_2018['Indicator Code'] == 'SH.DTH.NCOM.ZS','2018'].reset_index(drop = True)\n",
    "health_expenditure = df_2018.loc[df_2018['Indicator Code'] == 'SH.XPD.CHEX.GD.ZS','2018'].reset_index(drop = True)\n",
    "crude_death_rate = df_2018.loc[df_2018['Indicator Code'] == 'SP.DYN.CDRT.IN','2018'].reset_index(drop = True)\n",
    "fertility_rate = df_2018.loc[df_2018['Indicator Code'] == 'SP.DYN.TFRT.IN','2018'].reset_index(drop = True)\n",
    "hospital_bed = df_2018.loc[df_2018['Indicator Code'] == 'SH.MED.BEDS.ZS','2018'].reset_index(drop = True)\n",
    "DPT_immu = df_2018.loc[df_2018['Indicator Code'] == 'SH.IMM.IDPT','2018'].reset_index(drop = True)\n",
    "HepB3_immu = df_2018.loc[df_2018['Indicator Code'] == 'SH.IMM.HEPB','2018'].reset_index(drop = True)\n",
    "measles_immu = df_2018.loc[df_2018['Indicator Code'] == 'SH.IMM.MEAS','2018'].reset_index(drop = True)\n",
    "HIV_incidence = df_2018.loc[df_2018['Indicator Code'] == 'SH.HIV.INCD.TL.P3','2018'].reset_index(drop = True)\n",
    "TB_incidence = df_2018.loc[df_2018['Indicator Code'] == 'SH.TBS.INCD','2018'].reset_index(drop = True)\n",
    "homicides_per100000 = df_2018.loc[df_2018['Indicator Code'] == 'VC.IHR.PSRC.P5','2018'].reset_index(drop = True)\n",
    "life_expectancy = df_2018.loc[df_2018['Indicator Code'] == 'SP.DYN.LE00.IN','2018'].reset_index(drop = True)\n",
    "road_traffic_mortality = df_2018.loc[df_2018['Indicator Code'] == 'SH.STA.TRAF.P5','2018'].reset_index(drop = True)\n",
    "physicians_per1000_people = df_2018.loc[df_2018['Indicator Code'] == 'SH.MED.PHYS.ZS','2018'].reset_index(drop = True)\n",
    "population_density = df_2018.loc[df_2018['Indicator Code'] == 'EN.POP.DNST','2018'].reset_index(drop = True)\n",
    "overweight_prevalence = df_2018.loc[df_2018['Indicator Code'] == 'SH.STA.OWGH.ZS','2018'].reset_index(drop = True)\n",
    "smoking_prevalence = df_2018.loc[df_2018['Indicator Code'] == 'SH.PRV.SMOK','2018'].reset_index(drop = True)\n",
    "suicide_per1000000 = df_2018.loc[df_2018['Indicator Code'] == 'SH.STA.SUIC.P5','2018'].reset_index(drop = True)\n",
    "alcohol_consumption_per_capita = df_2018.loc[df_2018['Indicator Code'] == 'SH.ALC.PCAP.LI','2018'].reset_index(drop = True)\n"
   ]
  },
  {
   "cell_type": "markdown",
   "metadata": {},
   "source": [
    "auth_series = pd.Series(author) \n",
    "article_series = pd.Series(article) \n",
    "  \n",
    "frame = { 'Author': auth_series, 'Article': article_series } \n",
    "  \n",
    "result = pd.DataFrame(frame) \n",
    "  \n",
    "print(result) "
   ]
  },
  {
   "cell_type": "code",
   "execution_count": null,
   "metadata": {},
   "outputs": [],
   "source": []
  },
  {
   "cell_type": "code",
   "execution_count": null,
   "metadata": {},
   "outputs": [],
   "source": [
    "#reassign each variable into a series so we can use them to create our dataframe\n",
    "crude_birth_rate = pd.Series(crude_birth_rate)\n",
    "death_comm_disease = pd.Series(death_comm_disease)\n",
    "death_noncomm_disease = pd.Series(death_noncomm_disease)\n",
    "health_expenditure = pd.Series(health_expenditure)\n",
    "crude_death_rate = pd.Series(crude_death_rate)\n",
    "fertility_rate = pd.Series(fertility_rate)\n",
    "hospital_bed = pd.Series(hospital_bed)\n",
    "DPT_immu = pd.Series(DPT_immu)\n",
    "HepB3_immu = pd.Series(HepB3_immu)\n",
    "measles_immu = pd.Series(measles_immu)\n",
    "HIV_incidence = pd.Series(HIV_incidence)\n",
    "TB_incidence = pd.Series(TB_incidence)\n",
    "homicides_per100000 = pd.Series(homicides_per100000)\n",
    "life_expectancy = pd.Series(life_expectancy)\n",
    "road_traffic_mortality = pd.Series(road_traffic_mortality)\n",
    "physicians_per1000_people = pd.Series(physicians_per1000_people)\n",
    "population_density = pd.Series(population_density)\n",
    "overweight_prevalence = pd.Series(overweight_prevalence)\n",
    "smoking_prevalence = pd.Series(smoking_prevalence)\n",
    "suicide_per1000000 = pd.Series(suicide_per1000000)\n",
    "alcohol_consumption_per_capita = pd.Series(alcohol_consumption_per_capita)"
   ]
  },
  {
   "cell_type": "markdown",
   "metadata": {},
   "source": [
    "crude_birth_rate \n",
    "death_comm_disease  \n",
    "death_noncomm_disease\n",
    "health_expenditure \n",
    "crude_death_rate  \n",
    "fertility_rate  \n",
    "hospital_bed  \n",
    "DPT_immu  \n",
    "HepB3_immu  \n",
    "measles_immu  \n",
    "HIV_incidence  \n",
    "TB_incidence  \n",
    "homicides_per100000  \n",
    "life_expectancy  \n",
    "road_traffic_mortality  \n",
    "physicians_per1000_people  \n",
    "population_density  \n",
    "overweight_prevalence  \n",
    "\n"
   ]
  },
  {
   "cell_type": "code",
   "execution_count": null,
   "metadata": {},
   "outputs": [],
   "source": [
    "#veiry each series is same length\n",
    "#crude_birth_rate.shape,death_comm_disease.shape,health_expenditure.shape,crude_death_rate.shape,fertility_rate.shape,hospital_bed.shape,DPT_immu.shape, HepB3_immu.shape,measles_immu.shape,HIV_incidence.shape,TB_incidence.shape,homicides_per100000.shape,life_expectancy.shape,road_traffic_mortality.shape, physicians_per1000_people.shape,population_density.shape,overweight_prevalence.shape,smoking_prevalence.shape,suicide_per1000000.shape,alcohol_consumption_per_capita.shape \n"
   ]
  },
  {
   "cell_type": "code",
   "execution_count": null,
   "metadata": {},
   "outputs": [],
   "source": []
  },
  {
   "cell_type": "code",
   "execution_count": 9,
   "metadata": {},
   "outputs": [],
   "source": [
    "#create a variable to store all variables to create a dataframe\n",
    "frame = {'Crude_birth_rate':crude_birth_rate, \n",
    "         'Death_comm_disease':death_comm_disease,  \n",
    "         'Death_noncomm_disease':death_noncomm_disease,\n",
    "         'Health_expenditure':health_expenditure,\n",
    "         'Crude_death_rate':crude_death_rate,\n",
    "         'Fertility_rate':fertility_rate,\n",
    "         'Hospital_bed':hospital_bed,  \n",
    "         'DPT_immu':DPT_immu,  \n",
    "         'HepB3_immu':HepB3_immu,  \n",
    "         'Measles_immu':measles_immu,\n",
    "         'HIV_incidence':HIV_incidence,  \n",
    "         'TB_incidence':TB_incidence,  \n",
    "         'Homicides_per100000':homicides_per100000,  \n",
    "         'Life_expectancy':life_expectancy,  \n",
    "         'Road_traffic_mortality':road_traffic_mortality,  \n",
    "         'Physicians_per1000_people':physicians_per1000_people,  \n",
    "         'Population_density':population_density,  \n",
    "         'Overweight_prevalence':overweight_prevalence,  \n",
    "         'Smoking_prevalence':smoking_prevalence,  \n",
    "         'Suicide_per1000000':suicide_per1000000,  \n",
    "         'Alcohol_consumption_per_capita':alcohol_consumption_per_capita\n",
    "        }"
   ]
  },
  {
   "cell_type": "code",
   "execution_count": 13,
   "metadata": {},
   "outputs": [],
   "source": [
    "#create the dataframe\n",
    "result = pd.DataFrame(frame).reset_index(drop = True)"
   ]
  },
  {
   "cell_type": "code",
   "execution_count": 17,
   "metadata": {},
   "outputs": [
    {
     "data": {
      "text/plain": [
       "(218, 21)"
      ]
     },
     "execution_count": 17,
     "metadata": {},
     "output_type": "execute_result"
    }
   ],
   "source": [
    "#check the dataframe\n",
    "result.head(10)\n",
    "result.shape"
   ]
  },
  {
   "cell_type": "markdown",
   "metadata": {},
   "source": [
    "#filter data frame to isolate rows with each variables of interest for every country in the dataframe\n",
    "\n",
    "crude_birth_rate = df.loc[df['Indicator Code'] == 'SP.DYN.CBRT.IN']\n",
    "death_comm_disease = df.loc[df['Indicator Code'] == 'SH.DTH.COMM.ZS']\n",
    "death_noncomm_disease = df.loc[df['Indicator Code'] == 'SH.DTH.NCOM.ZS']\n",
    "health_expenditure = df.loc[df['Indicator Code'] == 'SH.XPD.CHEX.GD.ZS']\n",
    "crude_death_rate = df.loc[df['Indicator Code'] == 'SP.DYN.CDRT.IN']\n",
    "fertility_rate = df.loc[df['Indicator Code'] == 'SP.DYN.TFRT.IN']\n",
    "hospital_bed = df.loc[df['Indicator Code'] == 'SH.MED.BEDS.ZS']\n",
    "DPT_immu = df.loc[df['Indicator Code'] == 'SH.IMM.IDPT']\n",
    "HepB3_immu = df.loc[df['Indicator Code'] == 'SH.IMM.HEPB']\n",
    "measles_immu = df.loc[df['Indicator Code'] == 'SH.IMM.MEAS']\n",
    "HIV_incidence = df.loc[df['Indicator Code'] == 'SH.HIV.INCD.TL.P3']\n",
    "TB_incidence = df.loc[df['Indicator Code'] == 'SH.TBS.INCD']\n",
    "homicides_per100000 = df.loc[df['Indicator Code'] == 'VC.IHR.PSRC.P5']\n",
    "life_expectancy = df.loc[df['Indicator Code'] == 'SP.DYN.LE00.IN']\n",
    "road_traffic_mortality = df.loc[df['Indicator Code'] == 'SH.STA.TRAF.P5']\n",
    "physicians_per1000_people = df.loc[df['Indicator Code'] == 'SH.MED.PHYS.ZS']\n",
    "population_density = df.loc[df['Indicator Code'] == 'EN.POP.DNST']\n",
    "overweight_prevalence = df.loc[df['Indicator Code'] == 'SH.STA.OWGH.ZS']\n",
    "smoking_prevalence = df.loc[df['Indicator Code'] == 'SH.PRV.SMOK']\n",
    "suicide_per1000000 = df.loc[df['Indicator Code'] == 'SH.STA.SUIC.P5']\n",
    "alcohol_consumption_per_capita = df.loc[df['Indicator Code'] == 'SH.ALC.PCAP.LI']\n",
    "\n",
    "\n",
    "\n"
   ]
  },
  {
   "cell_type": "markdown",
   "metadata": {},
   "source": [
    "\"Country Name\" column seems to have grouped region names in addition to country names. So, lets remove all the rows which have broader region in the dataset."
   ]
  },
  {
   "cell_type": "markdown",
   "metadata": {},
   "source": [
    "#remove rows with non country values. These inlucde \n",
    "'Arab World', \n",
    "'Central Europe and the Baltics', \n",
    "'East Asia & Pacific (excluding high income)',\n",
    "'Early-demographic dividend', 'East Asia & Pacific',\n",
    "'Europe & Central Asia (excluding high income)',\n",
    "'Europe & Central Asia','Euro area',\n",
    "'European Union', 'Fragile and conflict affected situations',\n",
    "'High income', \n",
    "'Heavily indebted poor countries (HIPC)', \n",
    "'IBRD only', 'IDA & IBRD total', 'IDA total',\n",
    "'IDA blend', 'IDA only', \n",
    "'Not classified', \n",
    "'Latin America & Caribbean (excluding high income)',\n",
    "'Latin America & Caribbean',\n",
    "'Least developed countries: UN classification', 'Low income',\n",
    "'Lower middle income',\n",
    "'Low & middle income', 'Late-demographic dividend',\n",
    "'Middle East & North Africa',\n",
    "'Middle East & North Africa (excluding high income)', \n",
    "'North America', \n",
    "'OECD members',\n",
    "'Other small states', \n",
    "'Pre-demographic dividend',\n",
    "'West Bank and Gaza', 'Pacific island small states',\n",
    "'South Asia',\n",
    "'Sub-Saharan Africa (excluding high income)', \n",
    "'Sub-Saharan Africa', 'Small states', 'Sao Tome and Principe',\n",
    "'East Asia & Pacific (IDA & IBRD countries)',\n",
    "'Europe & Central Asia (IDA & IBRD countries)', \n",
    "'Latin America & the Caribbean (IDA & IBRD countries)',\n",
    "'Middle East & North Africa (IDA & IBRD countries)',\n",
    "'South Asia (IDA & IBRD)',\n",
    "'Sub-Saharan Africa (IDA & IBRD countries)', \n",
    "'Upper middle income', \n",
    "\n"
   ]
  },
  {
   "cell_type": "code",
   "execution_count": 12,
   "metadata": {},
   "outputs": [],
   "source": [
    "#save the cleaned dataframe for EDA\n",
    "result.to_csv(\"demographics_data.csv\")"
   ]
  },
  {
   "cell_type": "code",
   "execution_count": null,
   "metadata": {},
   "outputs": [],
   "source": []
  }
 ],
 "metadata": {
  "kernelspec": {
   "display_name": "Python 3",
   "language": "python",
   "name": "python3"
  },
  "language_info": {
   "codemirror_mode": {
    "name": "ipython",
    "version": 3
   },
   "file_extension": ".py",
   "mimetype": "text/x-python",
   "name": "python",
   "nbconvert_exporter": "python",
   "pygments_lexer": "ipython3",
   "version": "3.7.6"
  }
 },
 "nbformat": 4,
 "nbformat_minor": 4
}
